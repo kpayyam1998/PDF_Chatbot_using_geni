{
 "cells": [
  {
   "cell_type": "code",
   "execution_count": 2,
   "metadata": {},
   "outputs": [],
   "source": [
    "from langchain.chains import RetrievalQA\n",
    "from langc"
   ]
  },
  {
   "cell_type": "code",
   "execution_count": 47,
   "metadata": {},
   "outputs": [],
   "source": [
    "from langchain_community.document_loaders import PyPDFLoader"
   ]
  },
  {
   "cell_type": "code",
   "execution_count": 54,
   "metadata": {},
   "outputs": [],
   "source": [
    "import os\n",
    "import PyPDF2\n",
    "\n",
    "file=\"docs\"\n",
    "\n",
    "for files in os.listdir(file):\n",
    "    if files.endswith(\".pdf\"):\n",
    "        # print(files)\n",
    "        loader=PyPDFLoader(os.path.join(file,files))\n",
    "        abc=loader.load()\n",
    "        abc"
   ]
  },
  {
   "cell_type": "code",
   "execution_count": 55,
   "metadata": {},
   "outputs": [
    {
     "data": {
      "text/plain": [
       "[Document(page_content=' \\n \\n \\nThe pdf995 suite of products - Pdf995, PdfEdit995, and Signature995 - is a complete solution for your document publishing needs. It \\nprovides ease of use, flexibility in format, and industry-standard security- and all at no cost to you. \\nPdf995 makes it easy and affordable to create professional-quality documents in the popular PDF file format. Its easy-to-use interface \\nhelps you to create PDF files by simply selecting the \"print\" command from any application, creating documents which can be viewed \\non any computer with a PDF viewer. Pdf995 supports network file saving, fast user switching on XP, Citrix/Terminal Server, custom \\npage sizes and large format printing. Pdf995 is a printer driver that works with any Postscript to PDF converter. The pdf995 printer \\ndriver and a free Converter are available for easy download. \\nPdfEdit995 offers a wealth of additional functionality, such as: combining documents into a single PDF; automatic link insertion; \\nhierarchical bookmark insertion; PDF conversion to HTML or DOC (text only); integration with Word toolbar with automatic table of \\ncontents and link generation; autoattach to email; stationery and stamping.  \\nSignature995 offers state-of-the-art security and encryption to protect your documents and add digital signatures. \\n \\n \\n \\nThe Pdf995 Suite offers the following features, all at no cost: \\nAutomatic insertion of embedded links \\nHierarchical Bookmarks \\nSupport for Digital Signatures \\nSupport for Triple DES encryption \\nAppend and Delete PDF Pages \\nBatch Print from Microsoft Office \\nAsian and Cyrillic fonts \\nIntegration with Microsoft Word toolbar \\nPDF Stationery \\nCombining multiple PDF\\'s into a single PDF \\nThree auto-name options to bypass Save As dialog \\nImposition of Draft/Confidential stamps \\nSupport for large format architectural printing \\nConvert PDF to JPEG, TIFF, BMP, PCX formats \\nConvert PDF to HTML and Word DOC conversion \\nConvert PDF to text \\nAutomatic Table of Contents generation \\nSupport for XP Fast User Switching and multiple user \\nsessions \\nStandard PDF Encryption (restricted printing, modifying, \\ncopying text and images) \\nSupport for Optimized PDF \\nSupport for custom page sizes Option to attach PDFs to email after creation  \\nAutomatic text summarization of PDF \\ndocuments \\nEasy integration with document management \\nand Workflow systems \\nn-Up printing \\nAutomatic page numbering \\nSimple Programmers Interface \\nOption to automatically display PDFs after \\ncreation \\nCustom resizing of PDF output \\nConfigurable Font embedding \\nSupport for Citrix/Terminal Server \\nSupport for Windows 2003 Server \\nEasy PS to PDF processing \\nSpecify PDF document properties \\nControl PDF opening mode \\nCan be configured to add functionality to \\nAcrobat Distiller \\nFree: Creates PDFs without annoying \\nwatermarks \\nFree: Fully functional, not a trial and does not \\nexpire \\nOver 5 million satisfied customers \\nOver 1000 Enterprise Customers worldwide \\n \\nPlease visit us at www.pdf995.com to learn more. \\n \\nThis document illustrates several features of the Pdf995 Suite of Products. ', metadata={'source': 'docs\\\\sample.pdf', 'page': 0}),\n",
       " Document(page_content='APPROVEDIntroduction\\nTheVirtualRealityModelingLanguage(VRML)isalanguagefordescribingmulti-\\nparticipantinteractivesimulations--virtualworldsnetworkedviatheglobalInternetand\\nhyperlinkedwiththeWorldWideWeb.Allaspectsofvirtualworlddisplay,interaction\\nandinternetworkingcanbespecifiedusingVRML.Itistheintentionofitsdesignersthat\\nVRMLbecomethestandardlanguageforinteractivesimulationwithintheWorldWide\\nWeb.\\nThefirstversionofVRMLallowsforthecreationofvirtualworldswithlimited\\ninteractivebehavior.Theseworldscancontainobjectswhichhavehyperlinkstoother\\nworlds,HTMLdocumentsorothervalidMIMEtypes.Whentheuserselectsanobject\\nwithahyperlink,theappropriateMIMEviewerislaunched.Whentheuserselectsalink\\ntoaVRMLdocumentfromwithinacorrectlyconfiguredWWWbrowser,aVRML\\nviewerislaunched.ThusVRMLviewersaretheperfectcompanionapplicationsto\\nstandardWWWbrowsersfornavigatingandvisualizingtheWeb.Futureversionsof\\nVRMLwillallowforricherbehaviors,includinganimations,motionphysicsandreal-\\ntimemulti-userinteraction.\\nThisdocumentspecifiesthefeaturesandsyntaxofVersion1.0ofVRML.\\nVRMLMissionStatement\\nThehistoryofthedevelopmentoftheInternethashadthreedistinctphases;first,the\\ndevelopmentoftheTCP/IPinfrastructurewhichalloweddocumentsanddatatobestored\\ninaproximallyindependentway;thatis,Internetprovidedalayerofabstractionbetween\\ndatasetsandthehostswhichmanipulatedthem.Whilethisabstractionwasuseful,itwas\\nalsoconfusing;withoutanyclearsenseof\"whatwentwhere\",accesstoInternetwas\\nrestrictedtotheclassofsysops/netsurferswhocouldmaintaininternalcognitivemapsof\\nthedataspace.\\nNext,TimBerners-Lee\\'sworkatCERN,wherehedevelopedthehypermediasystem\\nknownasWorldWideWeb,addedanotherlayerofabstractiontotheexistingstructure.\\nThisabstractionprovidedan\"addressing\"scheme,auniqueidentifier(theUniversal\\nResourceLocator),whichcouldtellanyone\"wheretogoandhowtogetthere\"forany\\npieceofdatawithintheWeb.Whileuseful,itlackeddimensionality;there\\'snothere\\ntherewithintheweb,andtheonlytypeofnavigationpermissible(otherthansurfing)is\\nbydirectreference.Inotherwords,IcanonlytellyouhowtogettotheVRMLForum\\nhomepagebysaying,\"http://www.wired.com/\",whichisnothuman-centereddata.In', metadata={'source': 'docs\\\\sample.pdf', 'page': 1}),\n",
       " Document(page_content='APPROVEDfact,Ineedtomakeanefforttorememberitatall.So,whiletheWorldWideWeb\\nprovidesaretrievalmechanismtocomplementtheexistingstoragemechanism,itleaves\\nalottobedesired,particularlyforhumanbeings.\\nFinally,wemoveto\"perceptualized\"Internetworks,wherethedatahasbeensensualized,\\nthatis,renderedsensually.Ifsomethingisrepresentedsensually,itispossibletomake\\nsenseofit.VRMLisanattempt(howsuccessful,onlytimeandeffortwilltell)toplace\\nhumansatthecenteroftheInternet,orderingitsuniversetoourwhims.Inordertodo\\nthat,themostimportantsingleelementisastandardthatdefinestheparticularitiesof\\nperception.VirtualRealityModelingLanguageisthatstandard,designedtobea\\nuniversaldescriptionlanguageformulti-participantsimulations.\\nThesethreephases,storage,retrieval,andperceptualizationareanalogoustothehuman\\nprocessofconsciousness,asexpressedintermsofsemanticsandcognitivescience.\\nEventsoccurandarerecorded(memory);inferencesaredrawnfrommemory\\n(associations),andfromsetsofrelatedevents,mapsoftheuniversearecreated(cognitive\\nperception).Whatisimportanttorememberisthatthemapisnottheterritory,andwe\\nshouldavoidbecomingtrappedinanysinglerepresentationorworld-view.Althoughwe\\nneedtodesigntoavoiddisorientation,weshouldalwayspushtheenvelopeinthekinds\\nofexperiencewecanbringintomanifestation!\\nThisdocumentisthelivingproofofthesuccessofaprocessthatwascommittedtobeing\\nopenandflexible,responsivetotheneedsofagrowingWebcommunity.Ratherthanre-\\ninventthewheel,wehaveadaptedanexistingspecification(OpenInventor)asthebasis\\nfromwhichourownworkcangrow,savingyearsofdesignworkandperhapsmany\\nmistakes.Nowourrealworkcanbegin;thatofrenderingournoosphericspace.\\nHistory\\nVRMLwasconceivedinthespringof1994atthefirstannualWorldWideWeb\\nConferenceinGeneva,Switzerland.TimBerners-LeeandDaveRaggettorganizeda\\nBirds-of-a-Feather(BOF)sessiontodiscussVirtualRealityinterfacestotheWorldWide\\nWeb.SeveralBOFattendeesdescribedprojectsalreadyunderwaytobuildthree\\ndimensionalgraphicalvisualizationtoolswhichinteroperatewiththeWeb.Attendees\\nagreedontheneedforthesetoolstohaveacommonlanguageforspecifying3Dscene\\ndescriptionandWWWhyperlinks--ananalogofHTMLforvirtualreality.Theterm\\nVirtualRealityMarkupLanguage(VRML)wascoined,andthegroupresolvedtobegin\\nspecificationworkaftertheconference.Theword\\'Markup\\'waslaterchangedto\\n\\'Modeling\\'toreflectthegraphicalnatureofVRML.', metadata={'source': 'docs\\\\sample.pdf', 'page': 2}),\n",
       " Document(page_content='APPROVEDShortlyaftertheGenevaBOFsession,thewww-vrmlmailinglistwascreatedtodiscuss\\nthedevelopmentofaspecificationforthefirstversionofVRML.Theresponsetothelist\\ninvitationwasoverwhelming:withinaweek,therewereoverathousandmembers.After\\naninitialsettling-inperiod,listmoderatorMarkPesceofLabyrinthGroupannouncedhis\\nintentiontohaveadraftversionofthespecificationreadybytheWWWFall1994\\nconference,amerefivemonthsaway.Therewasgeneralagreementonthelistthat,while\\nthisschedulewasaggressive,itwasachievableprovidedthattherequirementsforthe\\nfirstversionwerenottooambitiousandthatVRMLcouldbeadaptedfromanexisting\\nsolution.Thelistquicklyagreeduponasetofrequirementsforthefirstversion,and\\nbeganasearchfortechnologieswhichcouldbeadaptedtofittheneedsofVRML.\\nThesearchforexistingtechnologiesturnedupaseveralworthwhilecandidates.After\\nmuchdeliberationthelistcametoaconsensus:theOpenInventorASCIIFileFormat\\nfromSiliconGraphics,Inc.TheInventorFileFormatsupportscompletedescriptionsof\\n3Dsceneswithpolygonallyrenderedobjects,lighting,materials,ambientpropertiesand\\nrealismeffects.AsubsetoftheInventorFileFormat,withextensionstosupport\\nnetworking,formsthebasisofVRML.GavinBellofSiliconGraphicshasadaptedthe\\nInventorFileFormatforVRML,withdesigninputfromthemailinglist.SGIhaspublicly\\nstatedthatthefileformatisavailableforuseintheopenmarket,andhavecontributeda\\nfileformatparserintothepublicdomaintobootstrapVRMLviewerdevelopment.', metadata={'source': 'docs\\\\sample.pdf', 'page': 3}),\n",
       " Document(page_content='APPROVEDAGraphicalRepresentationofInverseVRMLUptake\\nChangethenumberinredbelowtoadjustfordownloadrateand/orbandwidth.\\n1Thenumber1representsanengineerwithan\"average\"cube*\\nCF Minfsw AirEANx\\n32%EANx\\n36%\\n80.0149.12 0\\n61.4114.43 10\\n49.892.846 20\\n41.978.102 30 180\\n36.267.402 40 120\\n31.859.275 50 80.0 147.0 192.0\\n28.4 52.9 60 57.0 92.0 123.0\\n25.647.774 70 40.0 65.0 79.0\\n23.443.543 80 30.0 49.0 59.0\\n21.540.001 90 24.0 37.0 45.0\\n19.9 37 100 19.0 30.0 35.0\\n18.534.409 110 16.0 25.0 29.0\\n17.332.154 120 13.0 20.0 n/a\\n16.230.178 130 10.0 17.0 n/a\\n15.128.202 140 8.0 n/a n/a020406080100120140\\n0\\n10\\n20\\n30\\n40\\n50\\n60\\n70\\n80\\n90\\n100\\n110\\n120\\n130\\n140\\nDaysafterdownloadInverseusageProgrammers\\nTechnicalWriters\\nQA\\nOther\\n0102030405060708090\\n50\\n60\\n70\\n80\\n90\\n100\\n110\\n120\\n130\\n140\\nDaysafterdownloadInverselogusageArtists\\nMusicians\\nPoliticians\\nDentists', metadata={'source': 'docs\\\\sample.pdf', 'page': 4})]"
      ]
     },
     "execution_count": 55,
     "metadata": {},
     "output_type": "execute_result"
    }
   ],
   "source": [
    "docs"
   ]
  },
  {
   "cell_type": "code",
   "execution_count": 46,
   "metadata": {},
   "outputs": [
    {
     "name": "stdout",
     "output_type": "stream",
     "text": [
      "[Document(page_content=' \\n \\n \\nThe pdf995 suite of products - Pdf995, PdfEdit995, and Signature995 - is a complete solution for your document publishing needs. It \\nprovides ease of use, flexibility in format, and industry-standard security- and all at no cost to you. \\nPdf995 makes it easy and affordable to create professional-quality documents in the popular PDF file format. Its easy-to-use interface \\nhelps you to create PDF files by simply selecting the \"print\" command from any application, creating documents which can be viewed \\non any computer with a PDF viewer. Pdf995 supports network file saving, fast user switching on XP, Citrix/Terminal Server, custom \\npage sizes and large format printing. Pdf995 is a printer driver that works with any Postscript to PDF converter. The pdf995 printer \\ndriver and a free Converter are available for easy download. \\nPdfEdit995 offers a wealth of additional functionality, such as: combining documents into a single PDF; automatic link insertion; \\nhierarchical bookmark insertion; PDF conversion to HTML or DOC (text only); integration with Word toolbar with automatic table of \\ncontents and link generation; autoattach to email; stationery and stamping.  \\nSignature995 offers state-of-the-art security and encryption to protect your documents and add digital signatures. \\n \\n \\n \\nThe Pdf995 Suite offers the following features, all at no cost: \\nAutomatic insertion of embedded links \\nHierarchical Bookmarks \\nSupport for Digital Signatures \\nSupport for Triple DES encryption \\nAppend and Delete PDF Pages \\nBatch Print from Microsoft Office \\nAsian and Cyrillic fonts \\nIntegration with Microsoft Word toolbar \\nPDF Stationery \\nCombining multiple PDF\\'s into a single PDF \\nThree auto-name options to bypass Save As dialog \\nImposition of Draft/Confidential stamps \\nSupport for large format architectural printing \\nConvert PDF to JPEG, TIFF, BMP, PCX formats \\nConvert PDF to HTML and Word DOC conversion \\nConvert PDF to text \\nAutomatic Table of Contents generation \\nSupport for XP Fast User Switching and multiple user \\nsessions \\nStandard PDF Encryption (restricted printing, modifying, \\ncopying text and images) \\nSupport for Optimized PDF \\nSupport for custom page sizes Option to attach PDFs to email after creation  \\nAutomatic text summarization of PDF \\ndocuments \\nEasy integration with document management \\nand Workflow systems \\nn-Up printing \\nAutomatic page numbering \\nSimple Programmers Interface \\nOption to automatically display PDFs after \\ncreation \\nCustom resizing of PDF output \\nConfigurable Font embedding \\nSupport for Citrix/Terminal Server \\nSupport for Windows 2003 Server \\nEasy PS to PDF processing \\nSpecify PDF document properties \\nControl PDF opening mode \\nCan be configured to add functionality to \\nAcrobat Distiller \\nFree: Creates PDFs without annoying \\nwatermarks \\nFree: Fully functional, not a trial and does not \\nexpire \\nOver 5 million satisfied customers \\nOver 1000 Enterprise Customers worldwide \\n \\nPlease visit us at www.pdf995.com to learn more. \\n \\nThis document illustrates several features of the Pdf995 Suite of Products. ', metadata={'source': 'docs\\\\sample.pdf', 'page': 0}), Document(page_content='APPROVEDIntroduction\\nTheVirtualRealityModelingLanguage(VRML)isalanguagefordescribingmulti-\\nparticipantinteractivesimulations--virtualworldsnetworkedviatheglobalInternetand\\nhyperlinkedwiththeWorldWideWeb.Allaspectsofvirtualworlddisplay,interaction\\nandinternetworkingcanbespecifiedusingVRML.Itistheintentionofitsdesignersthat\\nVRMLbecomethestandardlanguageforinteractivesimulationwithintheWorldWide\\nWeb.\\nThefirstversionofVRMLallowsforthecreationofvirtualworldswithlimited\\ninteractivebehavior.Theseworldscancontainobjectswhichhavehyperlinkstoother\\nworlds,HTMLdocumentsorothervalidMIMEtypes.Whentheuserselectsanobject\\nwithahyperlink,theappropriateMIMEviewerislaunched.Whentheuserselectsalink\\ntoaVRMLdocumentfromwithinacorrectlyconfiguredWWWbrowser,aVRML\\nviewerislaunched.ThusVRMLviewersaretheperfectcompanionapplicationsto\\nstandardWWWbrowsersfornavigatingandvisualizingtheWeb.Futureversionsof\\nVRMLwillallowforricherbehaviors,includinganimations,motionphysicsandreal-\\ntimemulti-userinteraction.\\nThisdocumentspecifiesthefeaturesandsyntaxofVersion1.0ofVRML.\\nVRMLMissionStatement\\nThehistoryofthedevelopmentoftheInternethashadthreedistinctphases;first,the\\ndevelopmentoftheTCP/IPinfrastructurewhichalloweddocumentsanddatatobestored\\ninaproximallyindependentway;thatis,Internetprovidedalayerofabstractionbetween\\ndatasetsandthehostswhichmanipulatedthem.Whilethisabstractionwasuseful,itwas\\nalsoconfusing;withoutanyclearsenseof\"whatwentwhere\",accesstoInternetwas\\nrestrictedtotheclassofsysops/netsurferswhocouldmaintaininternalcognitivemapsof\\nthedataspace.\\nNext,TimBerners-Lee\\'sworkatCERN,wherehedevelopedthehypermediasystem\\nknownasWorldWideWeb,addedanotherlayerofabstractiontotheexistingstructure.\\nThisabstractionprovidedan\"addressing\"scheme,auniqueidentifier(theUniversal\\nResourceLocator),whichcouldtellanyone\"wheretogoandhowtogetthere\"forany\\npieceofdatawithintheWeb.Whileuseful,itlackeddimensionality;there\\'snothere\\ntherewithintheweb,andtheonlytypeofnavigationpermissible(otherthansurfing)is\\nbydirectreference.Inotherwords,IcanonlytellyouhowtogettotheVRMLForum\\nhomepagebysaying,\"http://www.wired.com/\",whichisnothuman-centereddata.In', metadata={'source': 'docs\\\\sample.pdf', 'page': 1}), Document(page_content='APPROVEDfact,Ineedtomakeanefforttorememberitatall.So,whiletheWorldWideWeb\\nprovidesaretrievalmechanismtocomplementtheexistingstoragemechanism,itleaves\\nalottobedesired,particularlyforhumanbeings.\\nFinally,wemoveto\"perceptualized\"Internetworks,wherethedatahasbeensensualized,\\nthatis,renderedsensually.Ifsomethingisrepresentedsensually,itispossibletomake\\nsenseofit.VRMLisanattempt(howsuccessful,onlytimeandeffortwilltell)toplace\\nhumansatthecenteroftheInternet,orderingitsuniversetoourwhims.Inordertodo\\nthat,themostimportantsingleelementisastandardthatdefinestheparticularitiesof\\nperception.VirtualRealityModelingLanguageisthatstandard,designedtobea\\nuniversaldescriptionlanguageformulti-participantsimulations.\\nThesethreephases,storage,retrieval,andperceptualizationareanalogoustothehuman\\nprocessofconsciousness,asexpressedintermsofsemanticsandcognitivescience.\\nEventsoccurandarerecorded(memory);inferencesaredrawnfrommemory\\n(associations),andfromsetsofrelatedevents,mapsoftheuniversearecreated(cognitive\\nperception).Whatisimportanttorememberisthatthemapisnottheterritory,andwe\\nshouldavoidbecomingtrappedinanysinglerepresentationorworld-view.Althoughwe\\nneedtodesigntoavoiddisorientation,weshouldalwayspushtheenvelopeinthekinds\\nofexperiencewecanbringintomanifestation!\\nThisdocumentisthelivingproofofthesuccessofaprocessthatwascommittedtobeing\\nopenandflexible,responsivetotheneedsofagrowingWebcommunity.Ratherthanre-\\ninventthewheel,wehaveadaptedanexistingspecification(OpenInventor)asthebasis\\nfromwhichourownworkcangrow,savingyearsofdesignworkandperhapsmany\\nmistakes.Nowourrealworkcanbegin;thatofrenderingournoosphericspace.\\nHistory\\nVRMLwasconceivedinthespringof1994atthefirstannualWorldWideWeb\\nConferenceinGeneva,Switzerland.TimBerners-LeeandDaveRaggettorganizeda\\nBirds-of-a-Feather(BOF)sessiontodiscussVirtualRealityinterfacestotheWorldWide\\nWeb.SeveralBOFattendeesdescribedprojectsalreadyunderwaytobuildthree\\ndimensionalgraphicalvisualizationtoolswhichinteroperatewiththeWeb.Attendees\\nagreedontheneedforthesetoolstohaveacommonlanguageforspecifying3Dscene\\ndescriptionandWWWhyperlinks--ananalogofHTMLforvirtualreality.Theterm\\nVirtualRealityMarkupLanguage(VRML)wascoined,andthegroupresolvedtobegin\\nspecificationworkaftertheconference.Theword\\'Markup\\'waslaterchangedto\\n\\'Modeling\\'toreflectthegraphicalnatureofVRML.', metadata={'source': 'docs\\\\sample.pdf', 'page': 2}), Document(page_content='APPROVEDShortlyaftertheGenevaBOFsession,thewww-vrmlmailinglistwascreatedtodiscuss\\nthedevelopmentofaspecificationforthefirstversionofVRML.Theresponsetothelist\\ninvitationwasoverwhelming:withinaweek,therewereoverathousandmembers.After\\naninitialsettling-inperiod,listmoderatorMarkPesceofLabyrinthGroupannouncedhis\\nintentiontohaveadraftversionofthespecificationreadybytheWWWFall1994\\nconference,amerefivemonthsaway.Therewasgeneralagreementonthelistthat,while\\nthisschedulewasaggressive,itwasachievableprovidedthattherequirementsforthe\\nfirstversionwerenottooambitiousandthatVRMLcouldbeadaptedfromanexisting\\nsolution.Thelistquicklyagreeduponasetofrequirementsforthefirstversion,and\\nbeganasearchfortechnologieswhichcouldbeadaptedtofittheneedsofVRML.\\nThesearchforexistingtechnologiesturnedupaseveralworthwhilecandidates.After\\nmuchdeliberationthelistcametoaconsensus:theOpenInventorASCIIFileFormat\\nfromSiliconGraphics,Inc.TheInventorFileFormatsupportscompletedescriptionsof\\n3Dsceneswithpolygonallyrenderedobjects,lighting,materials,ambientpropertiesand\\nrealismeffects.AsubsetoftheInventorFileFormat,withextensionstosupport\\nnetworking,formsthebasisofVRML.GavinBellofSiliconGraphicshasadaptedthe\\nInventorFileFormatforVRML,withdesigninputfromthemailinglist.SGIhaspublicly\\nstatedthatthefileformatisavailableforuseintheopenmarket,andhavecontributeda\\nfileformatparserintothepublicdomaintobootstrapVRMLviewerdevelopment.', metadata={'source': 'docs\\\\sample.pdf', 'page': 3}), Document(page_content='APPROVEDAGraphicalRepresentationofInverseVRMLUptake\\nChangethenumberinredbelowtoadjustfordownloadrateand/orbandwidth.\\n1Thenumber1representsanengineerwithan\"average\"cube*\\nCF Minfsw AirEANx\\n32%EANx\\n36%\\n80.0149.12 0\\n61.4114.43 10\\n49.892.846 20\\n41.978.102 30 180\\n36.267.402 40 120\\n31.859.275 50 80.0 147.0 192.0\\n28.4 52.9 60 57.0 92.0 123.0\\n25.647.774 70 40.0 65.0 79.0\\n23.443.543 80 30.0 49.0 59.0\\n21.540.001 90 24.0 37.0 45.0\\n19.9 37 100 19.0 30.0 35.0\\n18.534.409 110 16.0 25.0 29.0\\n17.332.154 120 13.0 20.0 n/a\\n16.230.178 130 10.0 17.0 n/a\\n15.128.202 140 8.0 n/a n/a020406080100120140\\n0\\n10\\n20\\n30\\n40\\n50\\n60\\n70\\n80\\n90\\n100\\n110\\n120\\n130\\n140\\nDaysafterdownloadInverseusageProgrammers\\nTechnicalWriters\\nQA\\nOther\\n0102030405060708090\\n50\\n60\\n70\\n80\\n90\\n100\\n110\\n120\\n130\\n140\\nDaysafterdownloadInverselogusageArtists\\nMusicians\\nPoliticians\\nDentists', metadata={'source': 'docs\\\\sample.pdf', 'page': 4})]\n"
     ]
    }
   ],
   "source": [
    "import os\n",
    "from langchain.document_loaders.pdf import PyPDFLoader\n",
    "\n",
    "# Specify the path to the directory containing the PDF file\n",
    "file_path = \"docs\"\n",
    "\n",
    "# Iterate over all the files in the directory\n",
    "for files in os.listdir(file_path):\n",
    "    # Check if the file is a PDF file\n",
    "    if files.endswith(\".pdf\"):\n",
    "        # Load the PDF file using PyPDFLoader\n",
    "        loader = PyPDFLoader(os.path.join(file_path, files))\n",
    "        docs = loader.load()\n",
    "        # Now you can do something with the loaded PDF file\n",
    "        print(docs)"
   ]
  },
  {
   "cell_type": "code",
   "execution_count": null,
   "metadata": {},
   "outputs": [],
   "source": []
  }
 ],
 "metadata": {
  "kernelspec": {
   "display_name": "aiprojects",
   "language": "python",
   "name": "python3"
  },
  "language_info": {
   "codemirror_mode": {
    "name": "ipython",
    "version": 3
   },
   "file_extension": ".py",
   "mimetype": "text/x-python",
   "name": "python",
   "nbconvert_exporter": "python",
   "pygments_lexer": "ipython3",
   "version": "3.12.3"
  }
 },
 "nbformat": 4,
 "nbformat_minor": 2
}
